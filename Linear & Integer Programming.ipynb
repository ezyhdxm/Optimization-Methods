{
 "cells": [
  {
   "cell_type": "code",
   "execution_count": 87,
   "metadata": {
    "ExecuteTime": {
     "end_time": "2020-05-19T05:18:09.001003Z",
     "start_time": "2020-05-19T05:18:08.997013Z"
    }
   },
   "outputs": [],
   "source": [
    "import numpy as np\n",
    "import matplotlib.pyplot as plt\n",
    "from tabulate import tabulate\n",
    "from collections import OrderedDict\n",
    "from fractions import Fraction\n",
    "from functools import reduce\n",
    "from math import gcd\n",
    "from IPython.display import display, Markdown, Latex\n",
    "import copy\n",
    "import networkx as nx\n",
    "import pylab\n",
    "from networkx.drawing.nx_agraph import graphviz_layout"
   ]
  },
  {
   "cell_type": "code",
   "execution_count": 88,
   "metadata": {
    "ExecuteTime": {
     "end_time": "2020-05-19T05:18:09.935035Z",
     "start_time": "2020-05-19T05:18:09.924064Z"
    }
   },
   "outputs": [],
   "source": [
    "def plot_feasible(A, b, dmax):\n",
    "    \n",
    "    def is_extreme_point():\n",
    "        if p not in extreme_points:\n",
    "            flag = (p[0] >= 0) & (p[1] >= 0)\n",
    "            for k in range(A.shape[0]):\n",
    "                flag = flag & (A[k, 0]*p[0] + A[k, 1]*p[1] <= b[k])\n",
    "            if flag == True:\n",
    "                extreme_points.append(p)\n",
    "                plt.scatter(p[0], p[1])\n",
    "                \n",
    "    plt.figure(figsize=(20,10))\n",
    "    d = np.linspace(0, dmax, 300)\n",
    "    x, y = np.meshgrid(d, d)\n",
    "    constraints = [(A[i, 0]*x + A[i, 1]*y <= b[i]) for i in range(A.shape[0])]\n",
    "    region = (x >= 0) & (y >= 0)\n",
    "    for expr in constraints:\n",
    "        region = region & expr\n",
    "    plt.imshow( (region).astype(int) , \n",
    "                    extent=(x.min(),x.max(),y.min(),y.max()),origin=\"lower\", cmap=\"Greys\", alpha = 0.3);\n",
    "\n",
    "\n",
    "    # plot the lines defining the constraints\n",
    "    x = np.linspace(0, dmax, 2000)\n",
    "    extreme_points = []\n",
    "    for i in range(A.shape[0]):\n",
    "        if A[i, 1]!=0:\n",
    "            if A[i, 0]!=0:\n",
    "                line = (b[i] - A[i, 0]*x)/A[i, 1]\n",
    "                plt.plot(x, line, label=f'${{{A[i, 0]}}}x+{{{A[i, 1]}}}y\\leq{{{b[i]}}}$')\n",
    "                p = (b[i] / A[i, 0], 0)\n",
    "                is_extreme_point()\n",
    "                p = (0, b[i] / A[i, 1])\n",
    "                is_extreme_point()\n",
    "                \n",
    "            else:\n",
    "                plt.axhline(y=b[i]/A[i, 1], label=f'${{{A[i, 1]}}}y\\leq{{{b[i]}}}$')\n",
    "                p = (0, b[i] / A[i, 1])\n",
    "                is_extreme_point()\n",
    "                \n",
    "        else:\n",
    "            plt.axvline(x=b[i]/A[i, 0], label=f'${{{A[i, 0]}}}x\\leq{{{b[i]}}}$')\n",
    "            p = (b[i] / A[i, 0], 0)\n",
    "            is_extreme_point()\n",
    "        \n",
    "        for j in range(i+1, A.shape[0]):\n",
    "            if (A[i, 0] * A[j, 1] - A[i, 1] * A[j, 0]) != 0:\n",
    "                p = ((A[j, 1] * b[i] - A[i, 1] * b[j])/(A[i, 0] * A[j, 1] - A[i, 1] * A[j, 0]), \n",
    "                     (A[i, 0] * b[j] - A[j, 0] * b[i])/(A[i, 0] * A[j, 1] - A[i, 1] * A[j, 0]))\n",
    "                is_extreme_point()\n",
    "\n",
    "    plt.xlim(0,dmax)\n",
    "    plt.ylim(0,dmax)\n",
    "    plt.legend(bbox_to_anchor=(1.05, 1), loc=2, borderaxespad=0.)\n",
    "    plt.xlabel(r'$x$')\n",
    "    plt.ylabel(r'$y$')\n",
    "    return extreme_points"
   ]
  },
  {
   "cell_type": "code",
   "execution_count": 89,
   "metadata": {
    "ExecuteTime": {
     "end_time": "2020-05-19T05:18:11.850819Z",
     "start_time": "2020-05-19T05:18:10.848065Z"
    }
   },
   "outputs": [
    {
     "data": {
      "image/png": "[encoded data removed]",
      "text/plain": [
       "<Figure size 1440x720 with 1 Axes>"
      ]
     },
     "metadata": {
      "needs_background": "light"
     },
     "output_type": "display_data"
    }
   ],
   "source": [
    "A = np.array([[1, 4],[1, 2], [2, -1]])\n",
    "b = [20, 11, 7]\n",
    "extreme_points = plot_feasible(A, b, 5)"
   ]
  },
  {
   "cell_type": "code",
   "execution_count": 92,
   "metadata": {
    "ExecuteTime": {
     "end_time": "2020-05-19T05:18:41.138383Z",
     "start_time": "2020-05-19T05:18:41.109407Z"
    }
   },
   "outputs": [],
   "source": [
    "class SimplexSolver:\n",
    "    def __init__(self, A, b, c, symbol=None):\n",
    "        self.A = A.copy().astype(float)\n",
    "        self.b = b.copy().astype(float)\n",
    "        self.c = c.copy().astype(float)\n",
    "        self.symbol = symbol\n",
    "        self.basis = []\n",
    "        self.slack = None\n",
    "        self.z = None\n",
    "        self.obj = None\n",
    "\n",
    "    def add_constraints(self, new_A, new_b):\n",
    "        \"\"\"Only call add_constraints after solve the LP once. Otherwise please initialize another solver.\"\"\"\n",
    "        \"\"\"Assume in the form Ax <= b\"\"\"\n",
    "        \"\"\"A: m by n numpy array; b: n numpy array\"\"\"\n",
    "        m, n = self.A.shape\n",
    "        new_m, new_n = new_A.shape\n",
    "        zeros = np.zeros((new_m, n - new_n))\n",
    "        A_new = np.c_[new_A, zeros]\n",
    "        b_new = new_b.copy()\n",
    "        for i in range(m):\n",
    "            for r in range(new_m):\n",
    "                a_ic = A_new[r, self.basis[i]]\n",
    "                A_new[r, :] -= a_ic * self.A[i, :]\n",
    "                b_new[r] -= a_ic * self.b[i]\n",
    "        self.b = np.append(self.b, b_new)\n",
    "        self.A = np.vstack([self.A, A_new])\n",
    "        zeros = np.zeros((m, new_m))\n",
    "        eyes = np.eye(new_m)\n",
    "        self.A = np.c_[self.A, np.vstack([zeros, eyes])]\n",
    "        self.basis.extend(list(range(n, n + new_m)))\n",
    "        self.c = np.append(self.c, [0]*new_m)\n",
    "        self.slack += new_m\n",
    "\n",
    "    def reformulate(self):\n",
    "        A_reform = []\n",
    "        b_reform = []\n",
    "        if not self.symbol:\n",
    "            m = self.A.shape[0]\n",
    "            A_reform = np.concatenate([self.A, np.eye(m)], axis=1)\n",
    "            b_reform = self.b\n",
    "        else:\n",
    "            for i in range(self.A.shape[0]):\n",
    "                if symbol[i] == '<=':\n",
    "                    A_reform.append(self.A[i, :])\n",
    "                    b_reform.append(self.b[i])\n",
    "                elif symbol[i] == '>=':\n",
    "                    A_reform.append(-self.A[i, :])\n",
    "                    b_reform.append(-self.b[i])\n",
    "                else:\n",
    "                    A_reform.extend([self.A[i, :], -self.A[i, :]])\n",
    "                    b_reform.extend([self.b[i], -self.b[i]])\n",
    "            A_reform = np.array(A_reform)\n",
    "            b_reform = np.array(b_reform)\n",
    "            m = A_reform.shape[0]\n",
    "            A_reform = np.concatenate([A_reform, np.eye(m)], axis=1)\n",
    "        c_reform = np.zeros(A_reform.shape[1])\n",
    "        c_reform[:self.A.shape[1]] = self.c\n",
    "        self.A, self.b, self.c = A_reform, b_reform, c_reform\n",
    "\n",
    "    def make_table(self):\n",
    "        m, n = self.A.shape\n",
    "        table = [[f's{self.basis[i]+1-n+self.slack}' if (self.basis[i]+1) > (n - self.slack) else f'x{self.basis[i]+1}',\n",
    "                  *[str(Fraction(self.A[i, j]).limit_denominator())\n",
    "                    for j in range(n)],\n",
    "                  str(Fraction(self.b[i]).limit_denominator())] for i in range(m)]\n",
    "        headers = ['basis'] + [f'x{i+1}\\n{str(Fraction(self.z[i]).limit_denominator())}' for i in range(n - self.slack)] + \\\n",
    "                  [f's{i+1}\\n{str(Fraction(self.z[i + n - self.slack]).limit_denominator())}' for i in range(self.slack)] + \\\n",
    "                  [f'rhs\\n{str(Fraction(-self.obj).limit_denominator())}']\n",
    "        print(tabulate(table, headers, tablefmt=\"grid\"))\n",
    "\n",
    "    def pivot(self, in_col, r):\n",
    "        \"\"\"Assume that slack variables are at the end.\"\"\"\n",
    "        m, n = self.A.shape\n",
    "        self.basis[r] = in_col\n",
    "        a_ri = self.A[r, in_col]\n",
    "        self.A[r, :] /= a_ri\n",
    "        self.b[r] /= a_ri\n",
    "        for s in range(m):\n",
    "            if s != r:\n",
    "                a_si = self.A[s, in_col]\n",
    "                self.A[s, :] -= a_si * self.A[r, :]\n",
    "                self.b[s] -= a_si * self.b[r]\n",
    "        self.z = self.c - self.c[self.basis].dot(self.A)\n",
    "        self.obj = self.c[self.basis].dot(self.b).round(8)\n",
    "        self.make_table()\n",
    "\n",
    "    def phase2(self):\n",
    "        m, n = self.A.shape\n",
    "        iteration = 0\n",
    "        self.z = self.c - self.c[self.basis].dot(self.A)\n",
    "        self.obj = self.c[self.basis].dot(self.b).round(8)\n",
    "        print(f'Iteration: {iteration}')\n",
    "        self.make_table()\n",
    "        while True:\n",
    "            if self.z.max() <= 0:\n",
    "                print(\"Reached optimal state.\")\n",
    "                mask = np.ones(n, bool)\n",
    "                mask[self.basis] = False\n",
    "                if np.any(self.z[mask] == 0):\n",
    "                    print(\"There are multiple optimal solutions.\")\n",
    "                    opt_state = 1\n",
    "                else:\n",
    "                    print(\"There is a unique optimal solution.\")\n",
    "                    opt_state = 0\n",
    "                solution = np.zeros(n)\n",
    "                for i in range(m):\n",
    "                    solution[self.basis[i]] = self.b[i]\n",
    "                results = OrderedDict()\n",
    "                for i in range(n - self.slack):\n",
    "                    results[f'x_{i+1}'] = solution[i].round(8)\n",
    "                for i in range(self.slack):\n",
    "                    results[f's_{i+1}'] = solution[i + n - self.slack].round(8)\n",
    "                results['obj'] = self.obj\n",
    "                results['basis'] = self.basis\n",
    "                results['z'] = self.z\n",
    "                results['optimal_state'] = opt_state\n",
    "                return results\n",
    "            in_col = np.argmax(self.z)\n",
    "            if (in_col+1) > (n - self.slack):\n",
    "                print(\n",
    "                    f'The variable with the largest z value is s{in_col+1-n+self.slack}')\n",
    "            else:\n",
    "                print(f'The variable with the largest z value is x{in_col+1}')\n",
    "            if self.A[:, in_col].max() <= 0:\n",
    "                print(\"Unbounded.\")\n",
    "                results = OrderedDict()\n",
    "                results['obj'] = float('inf')\n",
    "                results['optimal_state'] = 2\n",
    "                self.obj = float('inf')\n",
    "                return results\n",
    "            lamda = np.array([self.b[i]/self.A[i, in_col] if self.A[i, in_col] > 0 else float(\"inf\")\n",
    "                              for i in range(m)])\n",
    "            r = np.argmin(lamda)\n",
    "            if (self.basis[r] + 1) > (n - self.slack):\n",
    "                print(\n",
    "                    f'Since row {r+1} has the smallest value, we are going to replace s{self.basis[r]+1-n+self.slack}')\n",
    "            else:\n",
    "                print(\n",
    "                    f'Since row {r+1} has the smallest value, we are going to replace x{self.basis[r]+1}')\n",
    "            iteration += 1\n",
    "            print(f'Iteration: {iteration}')\n",
    "            self.pivot(in_col, r)\n",
    "\n",
    "    def phase1(self):\n",
    "        \"\"\"Assume we already have the form Ax == b\"\"\"\n",
    "        m, n = self.A.shape\n",
    "        self.A = np.concatenate([self.A, np.eye(m)], axis=1).astype(float)\n",
    "        self.basis = list(range(n, n+m))\n",
    "        origin_c = self.c\n",
    "        self.c = np.zeros(n+m)\n",
    "        self.c[n:(n+m)] = -1\n",
    "        self.slack = m\n",
    "        results = self.phase2()\n",
    "        self.A = self.A[:, :n]\n",
    "        self.c = origin_c\n",
    "        return results\n",
    "\n",
    "    def PrimeSimplex(self):\n",
    "        self.reformulate()\n",
    "        m, n = self.A.shape\n",
    "        if self.symbol:\n",
    "            print(\"*************\")\n",
    "            print(\"*  Phase 1  *\")\n",
    "            print(\"*************\")\n",
    "            phase1_results = self.phase1()\n",
    "            if phase1_results['obj'] < 0:\n",
    "                print(\"Infeasible.\")\n",
    "                results = {\"obj\": np.nan, \"optimal_state\": 3}\n",
    "                self.obj = np.nan\n",
    "                return results\n",
    "            self.basis = phase1_results['basis']\n",
    "        else:\n",
    "            self.basis = list(range(n-m, n))\n",
    "        print(\"*************\")\n",
    "        print(\"*  Phase 2  *\")\n",
    "        print(\"*************\")\n",
    "        self.slack = m\n",
    "        results = self.phase2()\n",
    "        return results\n",
    "\n",
    "    def Dual(self):\n",
    "        \"\"\"We only use dual simplex to solve problems which already have a dual feasible solution.\"\"\"\n",
    "        print(\"*************\")\n",
    "        print(\"*    Dual   *\")\n",
    "        print(\"*************\")\n",
    "        m, n = self.A.shape\n",
    "        iteration = 0\n",
    "        self.z = self.c - self.c[self.basis].dot(self.A)\n",
    "        self.obj = self.c[self.basis].dot(self.b).round(8)\n",
    "        print(f'Iteration: {iteration}')\n",
    "        self.make_table()\n",
    "        while True:\n",
    "            if self.b.min() >= 0:\n",
    "                print(\"Reached optimal state.\")\n",
    "                mask = np.ones(n, bool)\n",
    "                mask[self.basis] = False\n",
    "                if np.any(self.z[mask] == 0):\n",
    "                    print(\"There are multiple optimal solutions.\")\n",
    "                    opt_state = 1\n",
    "                else:\n",
    "                    print(\"There is a unique optimal solution.\")\n",
    "                    opt_state = 0\n",
    "                solution = np.zeros(n)\n",
    "                for i in range(m):\n",
    "                    solution[self.basis[i]] = self.b[i]\n",
    "                results = OrderedDict()\n",
    "                for i in range(n - self.slack):\n",
    "                    results[f'x_{i+1}'] = solution[i].round(8)\n",
    "                for i in range(self.slack):\n",
    "                    results[f's_{i+1}'] = solution[i + n - self.slack].round(8)\n",
    "                results['obj'] = self.obj\n",
    "                results['basis'] = self.basis\n",
    "                results['z'] = self.z\n",
    "                results['optimal_state'] = opt_state\n",
    "                return results\n",
    "            r = np.argmin(self.b)\n",
    "            if (self.basis[r] + 1) > (n - self.slack):\n",
    "                print(\n",
    "                    f'Since row {r+1} has the smallest b, we are going to replace s{self.basis[r]+1-n+self.slack}')\n",
    "            else:\n",
    "                print(\n",
    "                    f'Since row {r+1} has the smallest b, we are going to replace x{self.basis[r]+1}')\n",
    "            if self.A[r, :].min() >= 0:\n",
    "                print(\"Infeasible.\")\n",
    "                results = {\"obj\": np.nan, \"optimal_state\": 3}\n",
    "                self.obj = np.nan\n",
    "                return results\n",
    "            theta = np.array([self.z[j]/self.A[r, j] if self.A[r, j] < 0 else float(\"inf\")\n",
    "                              for j in range(n)])\n",
    "            in_col = np.argmin(theta)\n",
    "            if (in_col+1) > (n - self.slack):\n",
    "                print(\n",
    "                    f'The variable with the smallest ratio is s{in_col+1-n+self.slack}')\n",
    "            else:\n",
    "                print(f'The variable with the smallest ratio is x{in_col+1}')\n",
    "            iteration += 1\n",
    "            print(f'Iteration: {iteration}')\n",
    "            self.pivot(in_col, r)"
   ]
  },
  {
   "cell_type": "code",
   "execution_count": 93,
   "metadata": {
    "ExecuteTime": {
     "end_time": "2020-05-19T05:18:41.901183Z",
     "start_time": "2020-05-19T05:18:41.890245Z"
    }
   },
   "outputs": [
    {
     "name": "stdout",
     "output_type": "stream",
     "text": [
      "*************\n",
      "*  Phase 2  *\n",
      "*************\n",
      "Iteration: 0\n",
      "+---------+------+------+------+------+-------+\n",
      "| basis   |   x1 |   x2 |   s1 |   s2 |   rhs |\n",
      "|         |    8 |    5 |    0 |    0 |     0 |\n",
      "+=========+======+======+======+======+=======+\n",
      "| s1      |    1 |    1 |    1 |    0 |     6 |\n",
      "+---------+------+------+------+------+-------+\n",
      "| s2      |    9 |    5 |    0 |    1 |    45 |\n",
      "+---------+------+------+------+------+-------+\n",
      "The variable with the largest z value is x1\n",
      "Since row 2 has the smallest value, we are going to replace s2\n",
      "Iteration: 1\n",
      "+---------+------+-------+------+--------+-------+\n",
      "| basis   |   x1 | x2    |   s1 | s2     |   rhs |\n",
      "|         |    0 | 5/9   |    0 | -8/9   |   -40 |\n",
      "+=========+======+=======+======+========+=======+\n",
      "| s1      |    0 | 4/9   |    1 | -1/9   |     1 |\n",
      "+---------+------+-------+------+--------+-------+\n",
      "| x1      |    1 | 5/9   |    0 | 1/9    |     5 |\n",
      "+---------+------+-------+------+--------+-------+\n",
      "The variable with the largest z value is x2\n",
      "Since row 1 has the smallest value, we are going to replace s1\n",
      "Iteration: 2\n",
      "+---------+------+------+--------+--------+----------+\n",
      "| basis   |   x1 |   x2 | s1     | s2     | rhs      |\n",
      "|         |    0 |    0 | -5/4   | -3/4   | -165/4   |\n",
      "+=========+======+======+========+========+==========+\n",
      "| x2      |    0 |    1 | 9/4    | -1/4   | 9/4      |\n",
      "+---------+------+------+--------+--------+----------+\n",
      "| x1      |    1 |    0 | -5/4   | 1/4    | 15/4     |\n",
      "+---------+------+------+--------+--------+----------+\n",
      "Reached optimal state.\n",
      "There is a unique optimal solution.\n"
     ]
    },
    {
     "data": {
      "text/plain": [
       "OrderedDict([('x_1', 3.75),\n",
       "             ('x_2', 2.25),\n",
       "             ('s_1', 0.0),\n",
       "             ('s_2', 0.0),\n",
       "             ('obj', 41.25),\n",
       "             ('basis', [1, 0]),\n",
       "             ('z', array([ 0.  ,  0.  , -1.25, -0.75])),\n",
       "             ('optimal_state', 0)])"
      ]
     },
     "execution_count": 93,
     "metadata": {},
     "output_type": "execute_result"
    }
   ],
   "source": [
    "A = np.array([[1, 1],\n",
    "              [9, 5]]).astype(float)\n",
    "b = np.array([6,\n",
    "              45]).astype(float)\n",
    "c = np.array([8,\n",
    "              5]).astype(float)\n",
    "solver = SimplexSolver(A, b, c)\n",
    "solver.PrimeSimplex()"
   ]
  },
  {
   "cell_type": "code",
   "execution_count": 94,
   "metadata": {
    "ExecuteTime": {
     "end_time": "2020-05-19T05:18:53.200744Z",
     "start_time": "2020-05-19T05:18:53.190772Z"
    }
   },
   "outputs": [
    {
     "name": "stdout",
     "output_type": "stream",
     "text": [
      "*************\n",
      "*    Dual   *\n",
      "*************\n",
      "Iteration: 0\n",
      "+---------+------+------+--------+--------+------+----------+\n",
      "| basis   |   x1 |   x2 | s1     | s2     |   s3 | rhs      |\n",
      "|         |    0 |    0 | -5/4   | -3/4   |    0 | -165/4   |\n",
      "+=========+======+======+========+========+======+==========+\n",
      "| x2      |    0 |    1 | 9/4    | -1/4   |    0 | 9/4      |\n",
      "+---------+------+------+--------+--------+------+----------+\n",
      "| x1      |    1 |    0 | -5/4   | 1/4    |    0 | 15/4     |\n",
      "+---------+------+------+--------+--------+------+----------+\n",
      "| s3      |    0 |    0 | -3/4   | -1/4   |    1 | -3/4     |\n",
      "+---------+------+------+--------+--------+------+----------+\n",
      "Since row 3 has the smallest b, we are going to replace s3\n",
      "The variable with the smallest ratio is s1\n",
      "Iteration: 1\n",
      "+---------+------+------+------+--------+--------+-------+\n",
      "| basis   |   x1 |   x2 |   s1 | s2     | s3     |   rhs |\n",
      "|         |    0 |    0 |    0 | -1/3   | -5/3   |   -40 |\n",
      "+=========+======+======+======+========+========+=======+\n",
      "| x2      |    0 |    1 |    0 | -1     | 3      |     0 |\n",
      "+---------+------+------+------+--------+--------+-------+\n",
      "| x1      |    1 |    0 |    0 | 2/3    | -5/3   |     5 |\n",
      "+---------+------+------+------+--------+--------+-------+\n",
      "| s1      |    0 |    0 |    1 | 1/3    | -4/3   |     1 |\n",
      "+---------+------+------+------+--------+--------+-------+\n",
      "Reached optimal state.\n",
      "There is a unique optimal solution.\n"
     ]
    },
    {
     "data": {
      "text/plain": [
       "OrderedDict([('x_1', 5.0),\n",
       "             ('x_2', 0.0),\n",
       "             ('s_1', 1.0),\n",
       "             ('s_2', 0.0),\n",
       "             ('s_3', 0.0),\n",
       "             ('obj', 40.0),\n",
       "             ('basis', [1, 0, 2]),\n",
       "             ('z',\n",
       "              array([ 0.        ,  0.        ,  0.        , -0.33333333, -1.66666667])),\n",
       "             ('optimal_state', 0)])"
      ]
     },
     "execution_count": 94,
     "metadata": {},
     "output_type": "execute_result"
    }
   ],
   "source": [
    "new_A = np.array([[3, 2]]).astype(float)\n",
    "new_b = np.array([15]).astype(float)\n",
    "solver.add_constraints(new_A, new_b)\n",
    "solver.Dual()"
   ]
  },
  {
   "cell_type": "code",
   "execution_count": 97,
   "metadata": {
    "ExecuteTime": {
     "end_time": "2020-05-19T05:19:38.217891Z",
     "start_time": "2020-05-19T05:19:38.211905Z"
    }
   },
   "outputs": [],
   "source": [
    "class GomorySolver(SimplexSolver):\n",
    "    def __init__(self, A, b, c, symbol=None):\n",
    "        super().__init__(A, b, c, symbol)\n",
    "    \n",
    "    def generate_cut(self, r):\n",
    "        new_A = np.floor(self.A[r, :]).reshape(1, -1)\n",
    "        new_b = np.array([np.floor(self.b[r])])\n",
    "        #print(new_A, new_b)\n",
    "        self.add_constraints(new_A, new_b)\n",
    "    \n",
    "    def CuttingPlane(self):\n",
    "        results = self.PrimeSimplex()\n",
    "        while True:\n",
    "            m, n = self.A.shape\n",
    "            solution = np.array(list(results.values())[:n])\n",
    "            if np.all(np.floor(solution) == solution):\n",
    "                print(\"Obtained optimal integer solution.\")\n",
    "                return results\n",
    "            r = np.argmin(np.abs(self.b - np.floor(self.b) - 0.5))\n",
    "            print(f\"Row {r} is closest to 0.5, so we will generate a cut from it.\")\n",
    "            self.generate_cut(r)\n",
    "            print(\"Apply Dual simplex algorithm.\")\n",
    "            results = self.Dual()"
   ]
  },
  {
   "cell_type": "code",
   "execution_count": 98,
   "metadata": {
    "ExecuteTime": {
     "end_time": "2020-05-19T05:19:38.947361Z",
     "start_time": "2020-05-19T05:19:38.933399Z"
    }
   },
   "outputs": [
    {
     "name": "stdout",
     "output_type": "stream",
     "text": [
      "*************\n",
      "*  Phase 2  *\n",
      "*************\n",
      "Iteration: 0\n",
      "+---------+------+------+------+------+-------+\n",
      "| basis   | x1   | x2   |   s1 |   s2 |   rhs |\n",
      "|         | 5    | 2    |    0 |    0 |     0 |\n",
      "+=========+======+======+======+======+=======+\n",
      "| s1      | 1/4  | 1/12 |    1 |    0 |     1 |\n",
      "+---------+------+------+------+------+-------+\n",
      "| s2      | 1    | 1    |    0 |    1 |     5 |\n",
      "+---------+------+------+------+------+-------+\n",
      "The variable with the largest z value is x1\n",
      "Since row 1 has the smallest value, we are going to replace s1\n",
      "Iteration: 1\n",
      "+---------+------+-------+-------+------+-------+\n",
      "| basis   |   x1 | x2    |    s1 |   s2 |   rhs |\n",
      "|         |    0 | 1/3   |   -20 |    0 |   -20 |\n",
      "+=========+======+=======+=======+======+=======+\n",
      "| x1      |    1 | 1/3   |     4 |    0 |     4 |\n",
      "+---------+------+-------+-------+------+-------+\n",
      "| s2      |    0 | 2/3   |    -4 |    1 |     1 |\n",
      "+---------+------+-------+-------+------+-------+\n",
      "The variable with the largest z value is x2\n",
      "Since row 2 has the smallest value, we are going to replace s2\n",
      "Iteration: 2\n",
      "+---------+------+------+-------+--------+---------+\n",
      "| basis   |   x1 |   x2 |    s1 | s2     | rhs     |\n",
      "|         |    0 |    0 |   -18 | -1/2   | -41/2   |\n",
      "+=========+======+======+=======+========+=========+\n",
      "| x1      |    1 |    0 |     6 | -1/2   | 7/2     |\n",
      "+---------+------+------+-------+--------+---------+\n",
      "| x2      |    0 |    1 |    -6 | 3/2    | 3/2     |\n",
      "+---------+------+------+-------+--------+---------+\n",
      "Reached optimal state.\n",
      "There is a unique optimal solution.\n",
      "Row 0 is closest to 0.5, so we will generate a cut from it.\n",
      "Apply Dual simplex algorithm.\n",
      "*************\n",
      "*    Dual   *\n",
      "*************\n",
      "Iteration: 0\n",
      "+---------+------+------+-------+--------+------+---------+\n",
      "| basis   |   x1 |   x2 |    s1 | s2     |   s3 | rhs     |\n",
      "|         |    0 |    0 |   -18 | -1/2   |    0 | -41/2   |\n",
      "+=========+======+======+=======+========+======+=========+\n",
      "| x1      |    1 |    0 |     6 | -1/2   |    0 | 7/2     |\n",
      "+---------+------+------+-------+--------+------+---------+\n",
      "| x2      |    0 |    1 |    -6 | 3/2    |    0 | 3/2     |\n",
      "+---------+------+------+-------+--------+------+---------+\n",
      "| s3      |    0 |    0 |     0 | -1/2   |    1 | -1/2    |\n",
      "+---------+------+------+-------+--------+------+---------+\n",
      "Since row 3 has the smallest b, we are going to replace s3\n",
      "The variable with the smallest ratio is s2\n",
      "Iteration: 1\n",
      "+---------+------+------+-------+------+------+-------+\n",
      "| basis   |   x1 |   x2 |    s1 |   s2 |   s3 |   rhs |\n",
      "|         |    0 |    0 |   -18 |    0 |   -1 |   -20 |\n",
      "+=========+======+======+=======+======+======+=======+\n",
      "| x1      |    1 |    0 |     6 |    0 |   -1 |     4 |\n",
      "+---------+------+------+-------+------+------+-------+\n",
      "| x2      |    0 |    1 |    -6 |    0 |    3 |     0 |\n",
      "+---------+------+------+-------+------+------+-------+\n",
      "| s2      |    0 |    0 |     0 |    1 |   -2 |     1 |\n",
      "+---------+------+------+-------+------+------+-------+\n",
      "Reached optimal state.\n",
      "There is a unique optimal solution.\n",
      "Obtained optimal integer solution.\n"
     ]
    },
    {
     "data": {
      "text/plain": [
       "OrderedDict([('x_1', 4.0),\n",
       "             ('x_2', 0.0),\n",
       "             ('s_1', 0.0),\n",
       "             ('s_2', 1.0),\n",
       "             ('s_3', 0.0),\n",
       "             ('obj', 20.0),\n",
       "             ('basis', [0, 1, 3]),\n",
       "             ('z', array([  0.,   0., -18.,   0.,  -1.])),\n",
       "             ('optimal_state', 0)])"
      ]
     },
     "execution_count": 98,
     "metadata": {},
     "output_type": "execute_result"
    }
   ],
   "source": [
    "A = np.array([[0.25, 1/12],\n",
    "              [1, 1]])\n",
    "b = np.array([1,\n",
    "              5])\n",
    "c = np.array([5, \n",
    "              2])\n",
    "integer_solver = GomorySolver(A, b, c)\n",
    "integer_solver.CuttingPlane()"
   ]
  },
  {
   "cell_type": "code",
   "execution_count": 99,
   "metadata": {
    "ExecuteTime": {
     "end_time": "2020-05-19T05:19:49.636255Z",
     "start_time": "2020-05-19T05:19:49.625282Z"
    }
   },
   "outputs": [],
   "source": [
    "def find_gcd(list):\n",
    "    x = reduce(gcd, list)\n",
    "    return x\n",
    "\n",
    "\n",
    "def BoundTightening(A, b, L, U):\n",
    "    \"\"\"Assume A is integral\"\"\"\n",
    "    \"\"\"Assume in the form Ax <= b\"\"\"\n",
    "    m, n = A.shape\n",
    "    A = A.astype(float)\n",
    "    b = b.astype(float)\n",
    "    new_constraints = []\n",
    "    for i in range(m):\n",
    "        print(\"***********************************\")\n",
    "        display(Markdown(f'### Processing Inequality {i+1}.'))\n",
    "        for j in range(n):\n",
    "            if A[i, j] != 0:\n",
    "                new_A = (A[i, :]/A[i, j]).copy()\n",
    "                new_b = b[i]/A[i, j]\n",
    "            else:\n",
    "                continue\n",
    "            x = np.zeros(n)\n",
    "            if A[i, j] > 0:\n",
    "                symbol = \"\\leq\"\n",
    "                x = np.array([L[k] if new_A[k] >= 0 else U[k]\n",
    "                              for k in range(n)])\n",
    "            else:\n",
    "                symbol = \"\\geq\"\n",
    "                x = np.array([U[k] if new_A[k] >= 0 else L[k]\n",
    "                              for k in range(n)])\n",
    "            x[j] = 0\n",
    "            expr = [f\"$x_{{{j+1}}} + $\"] +\\\n",
    "                   [f\"$\\\\frac{{{int(A[i, k])}}}{{{int(A[i, j])}}} \\\\times {x[k]} + $\" for k in range(j)] +\\\n",
    "                   [f\"$\\\\frac{{{int(A[i, k])}}}{{{int(A[i, j])}}} \\\\times {x[k]} + $\" for k in range(j+1, n-1)]\n",
    "            if j < n-1:\n",
    "                expr += [f\"$\\\\frac{{{int(A[i, n-1])}}}{{{int(A[i, j])}}} \\\\times {x[n-1]}$\"] +\\\n",
    "                        [f'${symbol} \\\\frac{{{int(b[i])}}}{{{int(A[i, j])}}}$']\n",
    "            else:\n",
    "                expr += [f'${symbol} \\\\frac{{{int(b[i])}}}{{{int(A[i, j])}}}$']\n",
    "            expr = reduce((lambda x, y: x+y), expr)\n",
    "            display(Latex(expr))\n",
    "            s = np.floor(new_b - new_A.dot(x))\n",
    "            display(\n",
    "                Markdown(f\"*The new bound is $x_{{{j+1}}} {{{symbol}}} {{{s}}}$.*\"))\n",
    "            if symbol == \"\\leq\":\n",
    "                if s < U[j]:\n",
    "                    print(f\"We found a smaller upper bound for x{j+1}.\")\n",
    "                    U[j] = s\n",
    "            else:\n",
    "                if s > L[j]:\n",
    "                    print(f\"We found a larger lower bound for x{j+1}.\")\n",
    "        v = find_gcd(A[i, :].astype(int))\n",
    "        new_b = b[i]/v\n",
    "        if np.floor(new_b) < new_b:\n",
    "            display(Markdown(\"*We found a tightened constraint. It is:*\"))\n",
    "            new_A = (A[i, :]/v).copy()\n",
    "            expr = reduce((lambda x, y: x+y), [f\"${{{int(new_A[j])}}}x_{{{j+1}}} + $\" for j in range(n-1)] +\n",
    "                          [f\"${{{int(new_A[n-1])}}}x_{{{n}}}$\"] + [f\"$\\leq {{{np.floor(new_b)}}}$\"])\n",
    "            display(Latex(expr))\n",
    "            print(\"***********************************\")\n",
    "            new_constraints.append((new_A, np.floor(new_b)))\n",
    "    return new_constraints"
   ]
  },
  {
   "cell_type": "code",
   "execution_count": 100,
   "metadata": {
    "ExecuteTime": {
     "end_time": "2020-05-19T05:19:50.510948Z",
     "start_time": "2020-05-19T05:19:50.478002Z"
    }
   },
   "outputs": [
    {
     "name": "stdout",
     "output_type": "stream",
     "text": [
      "***********************************\n"
     ]
    },
    {
     "data": {
      "text/markdown": [
       "### Processing Inequality 1."
      ],
      "text/plain": [
       "<IPython.core.display.Markdown object>"
      ]
     },
     "metadata": {},
     "output_type": "display_data"
    },
    {
     "data": {
      "text/latex": [
       "$x_{1} + $$\\frac{2}{3} \\times 0$$\\leq \\frac{10}{3}$"
      ],
      "text/plain": [
       "<IPython.core.display.Latex object>"
      ]
     },
     "metadata": {},
     "output_type": "display_data"
    },
    {
     "data": {
      "text/markdown": [
       "*The new bound is $x_{1} {\\leq} {3.0}$.*"
      ],
      "text/plain": [
       "<IPython.core.display.Markdown object>"
      ]
     },
     "metadata": {},
     "output_type": "display_data"
    },
    {
     "name": "stdout",
     "output_type": "stream",
     "text": [
      "We found a smaller upper bound for x1.\n"
     ]
    },
    {
     "data": {
      "text/latex": [
       "$x_{2} + $$\\frac{3}{2} \\times 0 + $$\\leq \\frac{10}{2}$"
      ],
      "text/plain": [
       "<IPython.core.display.Latex object>"
      ]
     },
     "metadata": {},
     "output_type": "display_data"
    },
    {
     "data": {
      "text/markdown": [
       "*The new bound is $x_{2} {\\leq} {5.0}$.*"
      ],
      "text/plain": [
       "<IPython.core.display.Markdown object>"
      ]
     },
     "metadata": {},
     "output_type": "display_data"
    },
    {
     "name": "stdout",
     "output_type": "stream",
     "text": [
      "We found a smaller upper bound for x2.\n",
      "***********************************\n"
     ]
    },
    {
     "data": {
      "text/markdown": [
       "### Processing Inequality 2."
      ],
      "text/plain": [
       "<IPython.core.display.Markdown object>"
      ]
     },
     "metadata": {},
     "output_type": "display_data"
    },
    {
     "data": {
      "text/latex": [
       "$x_{1} + $$\\frac{4}{3} \\times 0$$\\leq \\frac{11}{3}$"
      ],
      "text/plain": [
       "<IPython.core.display.Latex object>"
      ]
     },
     "metadata": {},
     "output_type": "display_data"
    },
    {
     "data": {
      "text/markdown": [
       "*The new bound is $x_{1} {\\leq} {3.0}$.*"
      ],
      "text/plain": [
       "<IPython.core.display.Markdown object>"
      ]
     },
     "metadata": {},
     "output_type": "display_data"
    },
    {
     "data": {
      "text/latex": [
       "$x_{2} + $$\\frac{3}{4} \\times 0 + $$\\leq \\frac{11}{4}$"
      ],
      "text/plain": [
       "<IPython.core.display.Latex object>"
      ]
     },
     "metadata": {},
     "output_type": "display_data"
    },
    {
     "data": {
      "text/markdown": [
       "*The new bound is $x_{2} {\\leq} {2.0}$.*"
      ],
      "text/plain": [
       "<IPython.core.display.Markdown object>"
      ]
     },
     "metadata": {},
     "output_type": "display_data"
    },
    {
     "name": "stdout",
     "output_type": "stream",
     "text": [
      "We found a smaller upper bound for x2.\n",
      "***********************************\n"
     ]
    },
    {
     "data": {
      "text/markdown": [
       "### Processing Inequality 3."
      ],
      "text/plain": [
       "<IPython.core.display.Markdown object>"
      ]
     },
     "metadata": {},
     "output_type": "display_data"
    },
    {
     "data": {
      "text/latex": [
       "$x_{1} + $$\\frac{3}{3} \\times 0$$\\leq \\frac{13}{3}$"
      ],
      "text/plain": [
       "<IPython.core.display.Latex object>"
      ]
     },
     "metadata": {},
     "output_type": "display_data"
    },
    {
     "data": {
      "text/markdown": [
       "*The new bound is $x_{1} {\\leq} {4.0}$.*"
      ],
      "text/plain": [
       "<IPython.core.display.Markdown object>"
      ]
     },
     "metadata": {},
     "output_type": "display_data"
    },
    {
     "data": {
      "text/latex": [
       "$x_{2} + $$\\frac{3}{3} \\times 0 + $$\\leq \\frac{13}{3}$"
      ],
      "text/plain": [
       "<IPython.core.display.Latex object>"
      ]
     },
     "metadata": {},
     "output_type": "display_data"
    },
    {
     "data": {
      "text/markdown": [
       "*The new bound is $x_{2} {\\leq} {4.0}$.*"
      ],
      "text/plain": [
       "<IPython.core.display.Markdown object>"
      ]
     },
     "metadata": {},
     "output_type": "display_data"
    },
    {
     "data": {
      "text/markdown": [
       "*We found a tightened constraint. It is:*"
      ],
      "text/plain": [
       "<IPython.core.display.Markdown object>"
      ]
     },
     "metadata": {},
     "output_type": "display_data"
    },
    {
     "data": {
      "text/latex": [
       "${1}x_{1} + $${1}x_{2}$$\\leq {4.0}$"
      ],
      "text/plain": [
       "<IPython.core.display.Latex object>"
      ]
     },
     "metadata": {},
     "output_type": "display_data"
    },
    {
     "name": "stdout",
     "output_type": "stream",
     "text": [
      "***********************************\n"
     ]
    },
    {
     "data": {
      "text/plain": [
       "[(array([1., 1.]), 4.0)]"
      ]
     },
     "execution_count": 100,
     "metadata": {},
     "output_type": "execute_result"
    }
   ],
   "source": [
    "A = np.array([[3, 2],\n",
    "              [3, 4],\n",
    "              [3, 3]])\n",
    "\n",
    "b = np.array([10, \n",
    "              11, \n",
    "              13])\n",
    "\n",
    "L = [0]*2\n",
    "U = [float(\"inf\")]*2\n",
    "BoundTightening(A, b, L, U)"
   ]
  },
  {
   "cell_type": "code",
   "execution_count": 181,
   "metadata": {
    "ExecuteTime": {
     "end_time": "2020-05-19T07:32:58.732261Z",
     "start_time": "2020-05-19T07:32:58.710358Z"
    }
   },
   "outputs": [],
   "source": [
    "class BinNode(SimplexSolver):\n",
    "    \"\"\"\n",
    "    Also includes:\n",
    "    self.A; self.b; self.c\n",
    "    self.symbol; self.basis; self.slack\n",
    "    self.z; self.obj\n",
    "    \"\"\"\n",
    "\n",
    "    def __init__(self, A, b, c, symbol=None):\n",
    "        super().__init__(A, b, c, symbol)\n",
    "        self.terminate = False\n",
    "        self.label = 1\n",
    "\n",
    "\n",
    "class BranchBoundSolver:\n",
    "    \"\"\"Assume the relaxation is feasible.\"\"\"\n",
    "\n",
    "    def __init__(self, A, b, c, symbol=None):\n",
    "        m, n = A.shape\n",
    "        self.root = BinNode(A, b, c, symbol)\n",
    "        self.LB = -float(\"inf\")\n",
    "        results = self.root.PrimeSimplex()\n",
    "        self.UB = self.root.obj\n",
    "        self.leaves = [(self.root.obj, self.root)]\n",
    "        self.num_nodes = 1\n",
    "        self.edges = []\n",
    "        self.nodes = {self.root.label: [list(results.items())[k] for k in [\n",
    "            *list(range(self.root.A.shape[1] - self.root.slack)), self.root.A.shape[1]]]}\n",
    "        self.edge_labels = {}\n",
    "\n",
    "    def branch(self, i):\n",
    "        results = OrderedDict()\n",
    "        node = self.leaves[i][1]\n",
    "        m, n = node.A.shape\n",
    "        # Find the variable closest to 0.5\n",
    "        r = np.argmin(np.abs(node.b - np.floor(node.b) - 0.5))\n",
    "        # Split current node\n",
    "        lc = copy.deepcopy(node)\n",
    "        rc = copy.deepcopy(node)\n",
    "        lc.label = self.num_nodes + 1\n",
    "        rc.label = self.num_nodes + 2\n",
    "        self.num_nodes += 2\n",
    "        self.edges.extend([(node.label, lc.label), (node.label, rc.label)])\n",
    "        # Remove splitted node from leaves list\n",
    "        _ = self.leaves.pop(i)\n",
    "        # Create new bounds for each node\n",
    "        new_A = np.zeros((1, n))\n",
    "        new_A[0, node.basis[r]] = 1\n",
    "        new_b = np.array([np.floor(node.b[r])])\n",
    "        if (node.basis[r] + 1) > (n - node.slack):\n",
    "            ledge = f\"s{node.basis[r]+1-n+node.slack} <= {new_b}\"\n",
    "            redge = f\"s{node.basis[r]+1-n+node.slack} >= {new_b+1}\"\n",
    "            print(\n",
    "                f\"Split on s{node.basis[r]+1-n+node.slack}, introducing new bound s{node.basis[r]+1-n+node.slack}\" +\n",
    "                \" <= {new_b} and s{node.basis[r]+1-n+node.slack} >= {new_b+1}\")\n",
    "        else:\n",
    "            ledge = f\"x{node.basis[r]+1} <= {new_b}\"\n",
    "            redge = f\"x{node.basis[r]+1} >= {new_b+1}\"\n",
    "            print(\n",
    "                f\"Split on x{node.basis[r]+1}, introducing new bound x{node.basis[r]+1} <= {new_b} and x{node.basis[r]+1} >= {new_b+1}\")\n",
    "        self.edge_labels[(node.label, lc.label)] = ledge\n",
    "        self.edge_labels[(node.label, rc.label)] = redge\n",
    "        lc.add_constraints(new_A, new_b)\n",
    "        rc.add_constraints(-new_A, -new_b-1)\n",
    "        # Obtain results from each node\n",
    "        if (node.basis[r] + 1) > (n - node.slack):\n",
    "            print(f\"For s{node.basis[r]+1-n+node.slack} <= {new_b}:\")\n",
    "        else:\n",
    "            print(f\"For x{node.basis[r]+1} <= {new_b}:\")\n",
    "        result_lc = lc.Dual()\n",
    "        if (node.basis[r] + 1) > (n - node.slack):\n",
    "            print(f\"For s{node.basis[r]+1-n+node.slack} >= {new_b+1}:\")\n",
    "        else:\n",
    "            print(f\"For x{node.basis[r]+1} >= {new_b+1}:\")\n",
    "        result_rc = rc.Dual()\n",
    "        # If left child is infeasible\n",
    "        if result_lc['optimal_state'] == 3:\n",
    "            lc.terminate = True\n",
    "            self.nodes[lc.label] = [list(result_lc.items())[0]]\n",
    "        else:\n",
    "            solution_lc = np.array(list(result_lc.values())[:(n+1)])\n",
    "            self.nodes[lc.label] = [list(result_lc.items())[k] for k in [\n",
    "                *list(range(n + 1 - lc.slack)), n + 1]]\n",
    "            # If it is integral\n",
    "            results = result_lc\n",
    "            if np.all(np.floor(solution_lc) == solution_lc):\n",
    "                lc.terminate = True\n",
    "                if lc.obj > self.LB:\n",
    "                    self.LB = lc.obj\n",
    "            # If the object is less than the lower bound\n",
    "            if lc.obj < self.LB:\n",
    "                lc.terminate = True\n",
    "            elif not lc.terminate:\n",
    "                self.leaves.append((lc.obj, lc))\n",
    "        # If right child is infeasible\n",
    "        if result_rc['optimal_state'] == 3:\n",
    "            rc.terminate = True\n",
    "            self.nodes[rc.label] = [list(result_rc.items())[0]]\n",
    "        else:\n",
    "            solution_rc = np.array(list(result_rc.values())[:(n+1)])\n",
    "            self.nodes[rc.label] = [list(result_rc.items())[k] for k in [\n",
    "                *list(range(n + 1 - rc.slack)), n + 1]]\n",
    "            # If it is integral\n",
    "            if results.get(\"obj\", -float(\"inf\")) < result_rc[\"obj\"]:\n",
    "                results = result_rc\n",
    "            if np.all(np.floor(solution_rc) == solution_rc):\n",
    "                rc.terminate = True\n",
    "                if rc.obj > self.LB:\n",
    "                    self.LB = rc.obj\n",
    "                    results = result_rc\n",
    "            # If the object is less than the lower bound\n",
    "            if rc.obj < self.LB:\n",
    "                rc.terminate = True\n",
    "            elif not rc.terminate:\n",
    "                self.leaves.append((rc.obj, rc))\n",
    "\n",
    "        # Update upper bound\n",
    "        obj_list = np.array([leaf[0] for leaf in self.leaves])\n",
    "        is_empty = obj_list.size == 0\n",
    "        if is_empty:\n",
    "            self.UB = self.LB\n",
    "        elif obj_list.max() < self.UB:\n",
    "            self.UB = obj_list.max()\n",
    "\n",
    "        if not results.get('obj', None):\n",
    "            results['optimal_state'] = 3\n",
    "        return results\n",
    "\n",
    "    def BranchBound(self):\n",
    "        epoch = 0\n",
    "        while True:\n",
    "            epoch += 1\n",
    "            obj_list = np.array([leaf[0] for leaf in self.leaves])\n",
    "            i = np.argmax(obj_list)\n",
    "            results = self.branch(i)\n",
    "            print(f\"Epoch: {epoch}\")\n",
    "            if self.UB == self.LB:\n",
    "                break\n",
    "            if epoch > 5:\n",
    "                break\n",
    "\n",
    "        G = nx.DiGraph()\n",
    "        G.add_nodes_from(list(self.nodes.keys()))\n",
    "        G.add_edges_from(self.edges)\n",
    "        nx.nx_agraph.write_dot(G, 'test.dot')\n",
    "        pos = graphviz_layout(G, prog='dot')\n",
    "        plt.figure(figsize=(10, 10))\n",
    "        nx.draw(G, pos, node_size=8000, with_labels=False, node_color=\"white\")\n",
    "        nx.draw_networkx_edge_labels(\n",
    "            G, pos, edge_labels=self.edge_labels, font_size=10)\n",
    "        for i in range(1, self.num_nodes+1):\n",
    "            x, y = pos[i]\n",
    "            if len(self.nodes[i]) == 1:\n",
    "                txt = \"Infeasible.\"\n",
    "            else:\n",
    "                txt_list = [f'{s[0]}={str(Fraction(s[1]).limit_denominator())}\\n' if j < len(\n",
    "                    self.nodes[i])-1 else f'{s[0]}={str(Fraction(s[1]).limit_denominator())}' for j, s in enumerate(self.nodes[i])]\n",
    "                txt = reduce((lambda r, s: r+s), txt_list)\n",
    "            plt.text(x, y, s=txt, bbox=dict(facecolor='red',\n",
    "                                            alpha=0.5), horizontalalignment='center')\n",
    "        pylab.show()\n",
    "        return results"
   ]
  },
  {
   "cell_type": "code",
   "execution_count": 182,
   "metadata": {
    "ExecuteTime": {
     "end_time": "2020-05-19T07:32:59.212151Z",
     "start_time": "2020-05-19T07:32:59.201182Z"
    }
   },
   "outputs": [
    {
     "name": "stdout",
     "output_type": "stream",
     "text": [
      "*************\n",
      "*  Phase 2  *\n",
      "*************\n",
      "Iteration: 0\n",
      "+---------+------+------+------+------+-------+\n",
      "| basis   |   x1 |   x2 |   s1 |   s2 |   rhs |\n",
      "|         |    2 |    1 |    0 |    0 |     0 |\n",
      "+=========+======+======+======+======+=======+\n",
      "| s1      |    5 |    2 |    1 |    0 |     8 |\n",
      "+---------+------+------+------+------+-------+\n",
      "| s2      |    1 |    1 |    0 |    1 |     3 |\n",
      "+---------+------+------+------+------+-------+\n",
      "The variable with the largest z value is x1\n",
      "Since row 1 has the smallest value, we are going to replace s1\n",
      "Iteration: 1\n",
      "+---------+------+-------+--------+------+---------+\n",
      "| basis   |   x1 | x2    | s1     |   s2 | rhs     |\n",
      "|         |    0 | 1/5   | -2/5   |    0 | -16/5   |\n",
      "+=========+======+=======+========+======+=========+\n",
      "| x1      |    1 | 2/5   | 1/5    |    0 | 8/5     |\n",
      "+---------+------+-------+--------+------+---------+\n",
      "| s2      |    0 | 3/5   | -1/5   |    1 | 7/5     |\n",
      "+---------+------+-------+--------+------+---------+\n",
      "The variable with the largest z value is x2\n",
      "Since row 2 has the smallest value, we are going to replace s2\n",
      "Iteration: 2\n",
      "+---------+------+------+--------+--------+---------+\n",
      "| basis   |   x1 |   x2 | s1     | s2     | rhs     |\n",
      "|         |    0 |    0 | -1/3   | -1/3   | -11/3   |\n",
      "+=========+======+======+========+========+=========+\n",
      "| x1      |    1 |    0 | 1/3    | -2/3   | 2/3     |\n",
      "+---------+------+------+--------+--------+---------+\n",
      "| x2      |    0 |    1 | -1/3   | 5/3    | 7/3     |\n",
      "+---------+------+------+--------+--------+---------+\n",
      "Reached optimal state.\n",
      "There is a unique optimal solution.\n"
     ]
    }
   ],
   "source": [
    "A = np.array([[5, 2],\n",
    "              [1, 1]])\n",
    "b = np.array([8, \n",
    "              3])\n",
    "c = np.array([2, \n",
    "              1])\n",
    "solver = BranchBoundSolver(A, b, c)"
   ]
  },
  {
   "cell_type": "code",
   "execution_count": 183,
   "metadata": {
    "ExecuteTime": {
     "end_time": "2020-05-19T07:32:59.988411Z",
     "start_time": "2020-05-19T07:32:59.620754Z"
    },
    "scrolled": false
   },
   "outputs": [
    {
     "name": "stdout",
     "output_type": "stream",
     "text": [
      "Split on x2, introducing new bound x2 <= [2.] and x2 >= [3.]\n",
      "For x2 <= [2.]:\n",
      "*************\n",
      "*    Dual   *\n",
      "*************\n",
      "Iteration: 0\n",
      "+---------+------+------+--------+--------+------+---------+\n",
      "| basis   |   x1 |   x2 | s1     | s2     |   s3 | rhs     |\n",
      "|         |    0 |    0 | -1/3   | -1/3   |    0 | -11/3   |\n",
      "+=========+======+======+========+========+======+=========+\n",
      "| x1      |    1 |    0 | 1/3    | -2/3   |    0 | 2/3     |\n",
      "+---------+------+------+--------+--------+------+---------+\n",
      "| x2      |    0 |    1 | -1/3   | 5/3    |    0 | 7/3     |\n",
      "+---------+------+------+--------+--------+------+---------+\n",
      "| s3      |    0 |    0 | 1/3    | -5/3   |    1 | -1/3    |\n",
      "+---------+------+------+--------+--------+------+---------+\n",
      "Since row 3 has the smallest b, we are going to replace s3\n",
      "The variable with the smallest ratio is s2\n",
      "Iteration: 1\n",
      "+---------+------+------+--------+------+--------+---------+\n",
      "| basis   |   x1 |   x2 | s1     |   s2 | s3     | rhs     |\n",
      "|         |    0 |    0 | -2/5   |    0 | -1/5   | -18/5   |\n",
      "+=========+======+======+========+======+========+=========+\n",
      "| x1      |    1 |    0 | 1/5    |    0 | -2/5   | 4/5     |\n",
      "+---------+------+------+--------+------+--------+---------+\n",
      "| x2      |    0 |    1 | 0      |    0 | 1      | 2       |\n",
      "+---------+------+------+--------+------+--------+---------+\n",
      "| s2      |    0 |    0 | -1/5   |    1 | -3/5   | 1/5     |\n",
      "+---------+------+------+--------+------+--------+---------+\n",
      "Reached optimal state.\n",
      "There is a unique optimal solution.\n",
      "result_lc: OrderedDict([('x_1', 0.8), ('x_2', 2.0), ('s_1', 0.0), ('s_2', 0.2), ('s_3', 0.0), ('obj', 3.6), ('basis', [0, 1, 3]), ('z', array([ 0. ,  0. , -0.4,  0. , -0.2])), ('optimal_state', 0)])\n",
      "For x2 >= [3.]:\n",
      "*************\n",
      "*    Dual   *\n",
      "*************\n",
      "Iteration: 0\n",
      "+---------+------+------+--------+--------+------+---------+\n",
      "| basis   |   x1 |   x2 | s1     | s2     |   s3 | rhs     |\n",
      "|         |    0 |    0 | -1/3   | -1/3   |    0 | -11/3   |\n",
      "+=========+======+======+========+========+======+=========+\n",
      "| x1      |    1 |    0 | 1/3    | -2/3   |    0 | 2/3     |\n",
      "+---------+------+------+--------+--------+------+---------+\n",
      "| x2      |    0 |    1 | -1/3   | 5/3    |    0 | 7/3     |\n",
      "+---------+------+------+--------+--------+------+---------+\n",
      "| s3      |    0 |    0 | -1/3   | 5/3    |    1 | -2/3    |\n",
      "+---------+------+------+--------+--------+------+---------+\n",
      "Since row 3 has the smallest b, we are going to replace s3\n",
      "The variable with the smallest ratio is s1\n",
      "Iteration: 1\n",
      "+---------+------+------+------+------+------+-------+\n",
      "| basis   |   x1 |   x2 |   s1 |   s2 |   s3 |   rhs |\n",
      "|         |    0 |    0 |    0 |   -2 |   -1 |    -3 |\n",
      "+=========+======+======+======+======+======+=======+\n",
      "| x1      |    1 |    0 |    0 |    1 |    1 |     0 |\n",
      "+---------+------+------+------+------+------+-------+\n",
      "| x2      |    0 |    1 |    0 |    0 |   -1 |     3 |\n",
      "+---------+------+------+------+------+------+-------+\n",
      "| s1      |    0 |    0 |    1 |   -5 |   -3 |     2 |\n",
      "+---------+------+------+------+------+------+-------+\n",
      "Reached optimal state.\n",
      "There is a unique optimal solution.\n",
      "Epoch: 1\n",
      "Split on s2, introducing new bound s2 <= {new_b} and s{node.basis[r]+1-n+node.slack} >= {new_b+1}\n",
      "For s2 <= [0.]:\n",
      "*************\n",
      "*    Dual   *\n",
      "*************\n",
      "Iteration: 0\n",
      "+---------+------+------+--------+------+--------+------+---------+\n",
      "| basis   |   x1 |   x2 | s1     |   s2 | s3     |   s4 | rhs     |\n",
      "|         |    0 |    0 | -2/5   |    0 | -1/5   |    0 | -18/5   |\n",
      "+=========+======+======+========+======+========+======+=========+\n",
      "| x1      |    1 |    0 | 1/5    |    0 | -2/5   |    0 | 4/5     |\n",
      "+---------+------+------+--------+------+--------+------+---------+\n",
      "| x2      |    0 |    1 | 0      |    0 | 1      |    0 | 2       |\n",
      "+---------+------+------+--------+------+--------+------+---------+\n",
      "| s2      |    0 |    0 | -1/5   |    1 | -3/5   |    0 | 1/5     |\n",
      "+---------+------+------+--------+------+--------+------+---------+\n",
      "| s4      |    0 |    0 | 1/5    |    0 | 3/5    |    1 | -1/5    |\n",
      "+---------+------+------+--------+------+--------+------+---------+\n",
      "Since row 4 has the smallest b, we are going to replace s4\n",
      "Infeasible.\n",
      "result_lc: {'obj': nan, 'optimal_state': 3}\n",
      "For s2 >= [1.]:\n",
      "*************\n",
      "*    Dual   *\n",
      "*************\n",
      "Iteration: 0\n",
      "+---------+------+------+--------+------+--------+------+---------+\n",
      "| basis   |   x1 |   x2 | s1     |   s2 | s3     |   s4 | rhs     |\n",
      "|         |    0 |    0 | -2/5   |    0 | -1/5   |    0 | -18/5   |\n",
      "+=========+======+======+========+======+========+======+=========+\n",
      "| x1      |    1 |    0 | 1/5    |    0 | -2/5   |    0 | 4/5     |\n",
      "+---------+------+------+--------+------+--------+------+---------+\n",
      "| x2      |    0 |    1 | 0      |    0 | 1      |    0 | 2       |\n",
      "+---------+------+------+--------+------+--------+------+---------+\n",
      "| s2      |    0 |    0 | -1/5   |    1 | -3/5   |    0 | 1/5     |\n",
      "+---------+------+------+--------+------+--------+------+---------+\n",
      "| s4      |    0 |    0 | -1/5   |    0 | -3/5   |    1 | -4/5    |\n",
      "+---------+------+------+--------+------+--------+------+---------+\n",
      "Since row 4 has the smallest b, we are going to replace s4\n",
      "The variable with the smallest ratio is s3\n",
      "Iteration: 1\n",
      "+---------+------+------+--------+------+------+--------+---------+\n",
      "| basis   |   x1 |   x2 | s1     |   s2 |   s3 | s4     | rhs     |\n",
      "|         |    0 |    0 | -1/3   |    0 |    0 | -1/3   | -10/3   |\n",
      "+=========+======+======+========+======+======+========+=========+\n",
      "| x1      |    1 |    0 | 1/3    |    0 |    0 | -2/3   | 4/3     |\n",
      "+---------+------+------+--------+------+------+--------+---------+\n",
      "| x2      |    0 |    1 | -1/3   |    0 |    0 | 5/3    | 2/3     |\n",
      "+---------+------+------+--------+------+------+--------+---------+\n",
      "| s2      |    0 |    0 | 0      |    1 |    0 | -1     | 1       |\n",
      "+---------+------+------+--------+------+------+--------+---------+\n",
      "| s3      |    0 |    0 | 1/3    |    0 |    1 | -5/3   | 4/3     |\n",
      "+---------+------+------+--------+------+------+--------+---------+\n",
      "Reached optimal state.\n",
      "There is a unique optimal solution.\n",
      "Epoch: 2\n",
      "Split on x1, introducing new bound x1 <= [1.] and x1 >= [2.]\n",
      "For x1 <= [1.]:\n",
      "*************\n",
      "*    Dual   *\n",
      "*************\n",
      "Iteration: 0\n",
      "+---------+------+------+--------+------+------+--------+------+---------+\n",
      "| basis   |   x1 |   x2 | s1     |   s2 |   s3 | s4     |   s5 | rhs     |\n",
      "|         |    0 |    0 | -1/3   |    0 |    0 | -1/3   |    0 | -10/3   |\n",
      "+=========+======+======+========+======+======+========+======+=========+\n",
      "| x1      |    1 |    0 | 1/3    |    0 |    0 | -2/3   |    0 | 4/3     |\n",
      "+---------+------+------+--------+------+------+--------+------+---------+\n",
      "| x2      |    0 |    1 | -1/3   |    0 |    0 | 5/3    |    0 | 2/3     |\n",
      "+---------+------+------+--------+------+------+--------+------+---------+\n",
      "| s2      |    0 |    0 | 0      |    1 |    0 | -1     |    0 | 1       |\n",
      "+---------+------+------+--------+------+------+--------+------+---------+\n",
      "| s3      |    0 |    0 | 1/3    |    0 |    1 | -5/3   |    0 | 4/3     |\n",
      "+---------+------+------+--------+------+------+--------+------+---------+\n",
      "| s5      |    0 |    0 | -1/3   |    0 |    0 | 2/3    |    1 | -1/3    |\n",
      "+---------+------+------+--------+------+------+--------+------+---------+\n",
      "Since row 5 has the smallest b, we are going to replace s5\n",
      "The variable with the smallest ratio is s1\n",
      "Iteration: 1\n",
      "+---------+------+------+------+------+------+------+------+-------+\n",
      "| basis   |   x1 |   x2 |   s1 |   s2 |   s3 |   s4 |   s5 |   rhs |\n",
      "|         |    0 |    0 |    0 |    0 |    0 |   -1 |   -1 |    -3 |\n",
      "+=========+======+======+======+======+======+======+======+=======+\n",
      "| x1      |    1 |    0 |    0 |    0 |    0 |    0 |    1 |     1 |\n",
      "+---------+------+------+------+------+------+------+------+-------+\n",
      "| x2      |    0 |    1 |    0 |    0 |    0 |    1 |   -1 |     1 |\n",
      "+---------+------+------+------+------+------+------+------+-------+\n",
      "| s2      |    0 |    0 |    0 |    1 |    0 |   -1 |    0 |     1 |\n",
      "+---------+------+------+------+------+------+------+------+-------+\n",
      "| s3      |    0 |    0 |    0 |    0 |    1 |   -1 |    1 |     1 |\n",
      "+---------+------+------+------+------+------+------+------+-------+\n",
      "| s1      |    0 |    0 |    1 |    0 |    0 |   -2 |   -3 |     1 |\n",
      "+---------+------+------+------+------+------+------+------+-------+\n",
      "Reached optimal state.\n",
      "There is a unique optimal solution.\n",
      "result_lc: OrderedDict([('x_1', 1.0), ('x_2', 1.0), ('s_1', 1.0), ('s_2', 1.0), ('s_3', 1.0), ('s_4', 0.0), ('s_5', 0.0), ('obj', 3.0), ('basis', [0, 1, 3, 4, 2]), ('z', array([ 0.,  0.,  0.,  0.,  0., -1., -1.])), ('optimal_state', 0)])\n",
      "For x1 >= [2.]:\n",
      "*************\n",
      "*    Dual   *\n",
      "*************\n",
      "Iteration: 0\n",
      "+---------+------+------+--------+------+------+--------+------+---------+\n",
      "| basis   |   x1 |   x2 | s1     |   s2 |   s3 | s4     |   s5 | rhs     |\n",
      "|         |    0 |    0 | -1/3   |    0 |    0 | -1/3   |    0 | -10/3   |\n",
      "+=========+======+======+========+======+======+========+======+=========+\n",
      "| x1      |    1 |    0 | 1/3    |    0 |    0 | -2/3   |    0 | 4/3     |\n",
      "+---------+------+------+--------+------+------+--------+------+---------+\n",
      "| x2      |    0 |    1 | -1/3   |    0 |    0 | 5/3    |    0 | 2/3     |\n",
      "+---------+------+------+--------+------+------+--------+------+---------+\n",
      "| s2      |    0 |    0 | 0      |    1 |    0 | -1     |    0 | 1       |\n",
      "+---------+------+------+--------+------+------+--------+------+---------+\n",
      "| s3      |    0 |    0 | 1/3    |    0 |    1 | -5/3   |    0 | 4/3     |\n",
      "+---------+------+------+--------+------+------+--------+------+---------+\n",
      "| s5      |    0 |    0 | 1/3    |    0 |    0 | -2/3   |    1 | -2/3    |\n",
      "+---------+------+------+--------+------+------+--------+------+---------+\n",
      "Since row 5 has the smallest b, we are going to replace s5\n",
      "The variable with the smallest ratio is s4\n",
      "Iteration: 1\n",
      "+---------+------+------+--------+------+------+------+--------+-------+\n",
      "| basis   |   x1 |   x2 | s1     |   s2 |   s3 |   s4 | s5     |   rhs |\n",
      "|         |    0 |    0 | -1/2   |    0 |    0 |    0 | -1/2   |    -3 |\n",
      "+=========+======+======+========+======+======+======+========+=======+\n",
      "| x1      |    1 |    0 | 0      |    0 |    0 |    0 | -1     |     2 |\n",
      "+---------+------+------+--------+------+------+------+--------+-------+\n",
      "| x2      |    0 |    1 | 1/2    |    0 |    0 |    0 | 5/2    |    -1 |\n",
      "+---------+------+------+--------+------+------+------+--------+-------+\n",
      "| s2      |    0 |    0 | -1/2   |    1 |    0 |    0 | -3/2   |     2 |\n",
      "+---------+------+------+--------+------+------+------+--------+-------+\n",
      "| s3      |    0 |    0 | -1/2   |    0 |    1 |    0 | -5/2   |     3 |\n",
      "+---------+------+------+--------+------+------+------+--------+-------+\n",
      "| s4      |    0 |    0 | -1/2   |    0 |    0 |    1 | -3/2   |     1 |\n",
      "+---------+------+------+--------+------+------+------+--------+-------+\n",
      "Since row 2 has the smallest b, we are going to replace x2\n",
      "Infeasible.\n",
      "Epoch: 3\n"
     ]
    },
    {
     "data": {
      "image/png": "[encoded data removed]",
      "text/plain": [
       "<Figure size 720x720 with 1 Axes>"
      ]
     },
     "metadata": {},
     "output_type": "display_data"
    },
    {
     "data": {
      "text/plain": [
       "OrderedDict([('x_1', 1.0),\n",
       "             ('x_2', 1.0),\n",
       "             ('s_1', 1.0),\n",
       "             ('s_2', 1.0),\n",
       "             ('s_3', 1.0),\n",
       "             ('s_4', 0.0),\n",
       "             ('s_5', 0.0),\n",
       "             ('obj', 3.0),\n",
       "             ('basis', [0, 1, 3, 4, 2]),\n",
       "             ('z', array([ 0.,  0.,  0.,  0.,  0., -1., -1.])),\n",
       "             ('optimal_state', 0)])"
      ]
     },
     "execution_count": 183,
     "metadata": {},
     "output_type": "execute_result"
    }
   ],
   "source": [
    "solver.BranchBound()"
   ]
  },
  {
   "cell_type": "code",
   "execution_count": 177,
   "metadata": {
    "ExecuteTime": {
     "end_time": "2020-05-19T07:30:59.376810Z",
     "start_time": "2020-05-19T07:30:59.371821Z"
    }
   },
   "outputs": [
    {
     "data": {
      "text/plain": [
       "{1: [('x_1', 0.66666667), ('x_2', 2.33333333), ('obj', 3.66666667)],\n",
       " 2: [('x_1', 0.8), ('x_2', 2.0), ('obj', 3.6)],\n",
       " 3: [('x_1', 0.0), ('x_2', 3.0), ('obj', 3.0)],\n",
       " 4: [('obj', nan)],\n",
       " 5: [('x_1', 1.33333333), ('x_2', 0.66666667), ('obj', 3.33333333)],\n",
       " 6: [('x_1', 1.0), ('x_2', 1.0), ('obj', 3.0)],\n",
       " 7: [('obj', nan)]}"
      ]
     },
     "execution_count": 177,
     "metadata": {},
     "output_type": "execute_result"
    }
   ],
   "source": [
    "solver.nodes"
   ]
  },
  {
   "cell_type": "code",
   "execution_count": 146,
   "metadata": {
    "ExecuteTime": {
     "end_time": "2020-05-19T07:09:53.505558Z",
     "start_time": "2020-05-19T07:09:53.498576Z"
    }
   },
   "outputs": [
    {
     "data": {
      "text/plain": [
       "{'ROOT': (425.99, 234.0),\n",
       " 'Child_0': (188.99, 162.0),\n",
       " 'Grandchild_0': (112.99, 90.0),\n",
       " 'Greatgrandchild_0': (77.993, 18.0),\n",
       " 'Child_1': (306.99, 162.0),\n",
       " 'Grandchild_1': (268.99, 90.0),\n",
       " 'Greatgrandchild_1': (251.99, 18.0),\n",
       " 'Child_2': (425.99, 162.0),\n",
       " 'Grandchild_2': (425.99, 90.0),\n",
       " 'Greatgrandchild_2': (425.99, 18.0),\n",
       " 'Child_3': (543.99, 162.0),\n",
       " 'Grandchild_3': (581.99, 90.0),\n",
       " 'Greatgrandchild_3': (599.99, 18.0),\n",
       " 'Child_4': (671.99, 162.0),\n",
       " 'Grandchild_4': (746.99, 90.0),\n",
       " 'Greatgrandchild_4': (773.99, 18.0)}"
      ]
     },
     "execution_count": 146,
     "metadata": {},
     "output_type": "execute_result"
    }
   ],
   "source": [
    "pos"
   ]
  },
  {
   "cell_type": "code",
   "execution_count": null,
   "metadata": {},
   "outputs": [],
   "source": []
  }
 ],
 "metadata": {
  "kernelspec": {
   "display_name": "Python 3",
   "language": "python",
   "name": "python3"
  },
  "language_info": {
   "codemirror_mode": {
    "name": "ipython",
    "version": 3
   },
   "file_extension": ".py",
   "mimetype": "text/x-python",
   "name": "python",
   "nbconvert_exporter": "python",
   "pygments_lexer": "ipython3",
   "version": "3.7.0"
  },
  "latex_envs": {
   "LaTeX_envs_menu_present": true,
   "autoclose": false,
   "autocomplete": true,
   "bibliofile": "biblio.bib",
   "cite_by": "apalike",
   "current_citInitial": 1,
   "eqLabelWithNumbers": true,
   "eqNumInitial": 1,
   "hotkeys": {
    "equation": "Ctrl-E",
    "itemize": "Ctrl-I"
   },
   "labels_anchors": false,
   "latex_user_defs": false,
   "report_style_numbering": false,
   "user_envs_cfg": false
  },
  "toc": {
   "base_numbering": 1,
   "nav_menu": {},
   "number_sections": true,
   "sideBar": true,
   "skip_h1_title": false,
   "title_cell": "Table of Contents",
   "title_sidebar": "Contents",
   "toc_cell": false,
   "toc_position": {},
   "toc_section_display": true,
   "toc_window_display": false
  },
  "varInspector": {
   "cols": {
    "lenName": 16,
    "lenType": 16,
    "lenVar": 40
   },
   "kernels_config": {
    "python": {
     "delete_cmd_postfix": "",
     "delete_cmd_prefix": "del ",
     "library": "var_list.py",
     "varRefreshCmd": "print(var_dic_list())"
    },
    "r": {
     "delete_cmd_postfix": ") ",
     "delete_cmd_prefix": "rm(",
     "library": "var_list.r",
     "varRefreshCmd": "cat(var_dic_list()) "
    }
   },
   "types_to_exclude": [
    "module",
    "function",
    "builtin_function_or_method",
    "instance",
    "_Feature"
   ],
   "window_display": false
  }
 },
 "nbformat": 4,
 "nbformat_minor": 2
}

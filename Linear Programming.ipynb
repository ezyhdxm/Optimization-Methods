{
 "cells": [
  {
   "cell_type": "markdown",
   "metadata": {},
   "source": [
    "### Primal & Dual Simplex"
   ]
  },
  {
   "cell_type": "code",
   "execution_count": 37,
   "metadata": {},
   "outputs": [],
   "source": [
    "import numpy as np\n",
    "\n",
    "def phase2(A, b, c, basis):\n",
    "    m, n = A.shape\n",
    "    objective = 0\n",
    "    while True:\n",
    "        basis.sort()\n",
    "        A_b_inverse = np.linalg.inv(A[:, basis])\n",
    "        A_bar = A_b_inverse.dot(A)\n",
    "        b_bar = A_b_inverse.dot(b)\n",
    "        mask = np.ones(n, bool)\n",
    "        mask[basis] = False\n",
    "        solution = np.zeros(n)\n",
    "        for i, j in enumerate(basis):\n",
    "            solution[j] = b_bar[i]\n",
    "        objective = solution.dot(c)\n",
    "        c_n_bar = c[mask] - c[basis].dot(A_bar[:, mask])\n",
    "        if c_n_bar.max() <= 0:\n",
    "            break\n",
    "        c_ind = np.zeros_like(c).astype(float)\n",
    "        c_ind[mask] = c_n_bar.copy()\n",
    "        r = np.argmax(c_ind)\n",
    "        if A_bar[:, r].max() <= 0:\n",
    "            return \"Optimal Value is Infinity!\"\n",
    "        lamda = np.array([b_bar[i]/A_bar[i, r] if A_bar[i, r]>0 else float(\"inf\") for i in range(m)])\n",
    "        s = np.argmin(lamda)\n",
    "        basis.remove(basis[s])\n",
    "        basis.append(r)\n",
    "    results = {f'x_{i+1}': solution[i] for i in range(n)}\n",
    "    results['obj'] = objective\n",
    "    results['basis'] = basis\n",
    "    return results\n",
    "\n",
    "def phase1(A, b):\n",
    "    m, n = A.shape\n",
    "    for i in range(m):\n",
    "        if b[i]<0:\n",
    "            A[i, :] = -A[i, :] \n",
    "            b[i] = -b[i]\n",
    "    A_slack = np.concatenate([A, np.eye(m)], axis=1)\n",
    "    basis = list(range(n, n+m))\n",
    "    c = np.zeros(n+m)\n",
    "    c[n:(n+m)] = -1\n",
    "    results = phase2(A_slack, b, c, basis)\n",
    "    if results['obj'] < 0:\n",
    "        return \"Infeasible!\"\n",
    "    return results['basis']\n",
    "\n",
    "def PrimeSimplex(A, b, c):\n",
    "    basis = phase1(A, b)\n",
    "    if basis == \"Infeasible!\":\n",
    "        return basis\n",
    "    return phase2(A, b, c, basis)"
   ]
  },
  {
   "cell_type": "code",
   "execution_count": 38,
   "metadata": {},
   "outputs": [
    {
     "data": {
      "text/plain": [
       "{'x_1': 3.272727272727273,\n",
       " 'x_2': 3.6363636363636367,\n",
       " 'x_3': 0.0,\n",
       " 'x_4': 0.0,\n",
       " 'x_5': 6.81818181818182,\n",
       " 'obj': 30.181818181818183,\n",
       " 'basis': [0, 1, 4]}"
      ]
     },
     "execution_count": 38,
     "metadata": {},
     "output_type": "execute_result"
    }
   ],
   "source": [
    "c = np.array([7, 2, 0, 0, 0])\n",
    "A = np.array([[-1, 2, 1, 0, 0], [5, 1, 0, 1, 0], [-2, -2, 0, 0, 1]])\n",
    "b = np.array([4, 20, -7])                                      \n",
    "PrimeSimplex(A, b, c)                                                         "
   ]
  },
  {
   "cell_type": "code",
   "execution_count": 39,
   "metadata": {},
   "outputs": [],
   "source": [
    "def DualSimplex(A, b, c, basis):\n",
    "    m, n = A.shape\n",
    "    while True:\n",
    "        basis.sort()\n",
    "        A_b_inverse = np.linalg.inv(A[:, basis])\n",
    "        b_bar = A_b_inverse.dot(b)\n",
    "        if np.all(b_bar >= 0):\n",
    "            solution = np.zeros(n).astype(float)\n",
    "            for i, j in enumerate(basis):\n",
    "                solution[j] = b_bar[i]\n",
    "            objective = solution.dot(c)\n",
    "            results = {f'x_{i+1}': solution[i] for i in range(n)}\n",
    "            results['obj'] = objective\n",
    "            results['basis'] = basis\n",
    "            return results\n",
    "        A_bar = A_b_inverse.dot(A)\n",
    "        s = np.argmin(b_bar)\n",
    "        if np.all(A_bar[s, :]>=0):\n",
    "            return \"Infeasible!\"\n",
    "        mask = np.ones(n, bool)\n",
    "        mask[basis] = False\n",
    "        c_n_bar = c[mask] - c[basis].dot(A_bar[:, mask])\n",
    "        c_ind = np.zeros_like(c).astype(float)\n",
    "        c_ind[mask] = c_n_bar.copy()\n",
    "        r = np.argmin(np.array([c_ind[j]/A_bar[s, j] if A_bar[s, j]<0 else float('inf') for j in range(n)]))\n",
    "        basis.remove(basis[s])\n",
    "        basis.append(r)"
   ]
  },
  {
   "cell_type": "code",
   "execution_count": 40,
   "metadata": {},
   "outputs": [
    {
     "data": {
      "text/plain": [
       "{'x_1': 3.272727272727273,\n",
       " 'x_2': 3.6363636363636367,\n",
       " 'x_3': 0.0,\n",
       " 'x_4': 0.0,\n",
       " 'x_5': 6.81818181818182,\n",
       " 'obj': 30.181818181818183,\n",
       " 'basis': [0, 1, 4]}"
      ]
     },
     "execution_count": 40,
     "metadata": {},
     "output_type": "execute_result"
    }
   ],
   "source": [
    "DualSimplex(A, b, c, [0, 1, 4])"
   ]
  },
  {
   "cell_type": "markdown",
   "metadata": {},
   "source": [
    "### Cutting Plane Algorithm"
   ]
  },
  {
   "cell_type": "code",
   "execution_count": null,
   "metadata": {},
   "outputs": [],
   "source": []
  }
 ],
 "metadata": {
  "kernelspec": {
   "display_name": "Python 3",
   "language": "python",
   "name": "python3"
  },
  "language_info": {
   "codemirror_mode": {
    "name": "ipython",
    "version": 3
   },
   "file_extension": ".py",
   "mimetype": "text/x-python",
   "name": "python",
   "nbconvert_exporter": "python",
   "pygments_lexer": "ipython3",
   "version": "3.6.5"
  }
 },
 "nbformat": 4,
 "nbformat_minor": 2
}

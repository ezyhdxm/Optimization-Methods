{
 "cells": [
  {
   "cell_type": "markdown",
   "metadata": {},
   "source": [
    "### Golden Section Search"
   ]
  },
  {
   "cell_type": "code",
   "execution_count": 70,
   "metadata": {
    "ExecuteTime": {
     "end_time": "2020-05-03T06:41:45.891028Z",
     "start_time": "2020-05-03T06:41:45.880090Z"
    }
   },
   "outputs": [],
   "source": [
    "import numpy as np\n",
    "import matplotlib.pyplot as plt\n",
    "%matplotlib inline\n",
    "from IPython import display\n",
    "import time\n",
    "\n",
    "PHI = (5**0.5-1)/2\n",
    "\n",
    "def f(x):\n",
    "    return (x-20)**4/500 - 2*x\n",
    "def gss(f, x_init, eps):\n",
    "    x_lo, x_hi = x_init\n",
    "    x_1 = x_hi - PHI*(x_hi - x_lo)\n",
    "    x_2 = x_lo + PHI*(x_hi - x_lo)\n",
    "    iter = 0\n",
    "    while (x_hi - x_lo) >= eps:\n",
    "        if iter % 2 == 0:\n",
    "            plt.clf()\n",
    "            visual_f(f, x_lo, x_hi, x_1, x_2, x_init)\n",
    "            time.sleep(0.5)\n",
    "            display.clear_output(wait=True)\n",
    "            display.display(plt.gcf())\n",
    "            print(f\"Iteration {iter}\")\n",
    "        if f(x_1) < f(x_2):\n",
    "            x_hi = x_2\n",
    "            x_2 = x_1\n",
    "            x_1 = x_hi - PHI*(x_hi - x_lo)\n",
    "        else:\n",
    "            x_lo = x_1\n",
    "            x_1 = x_2\n",
    "            x_2 = x_lo + PHI*(x_hi - x_lo)\n",
    "        iter += 1\n",
    "    print(f\"Minimum {f((x_lo + x_hi)/2)} achieved at point {(x_lo + x_hi)/2}\")\n",
    "    return (x_lo + x_hi)/2, f((x_lo + x_hi)/2)\n",
    "def visual_f(f, x_lo, x_hi, x_1, x_2, lims):\n",
    "    x = np.linspace(x_lo, x_hi)\n",
    "    plt.plot(x, f(x))\n",
    "    plt.plot(x_1, 0, marker='$x_1$')\n",
    "    plt.plot(x_2, 0, marker='$x_2$')\n",
    "    plt.axhline(0)\n",
    "    plt.axvline(x_1, linestyle='--')\n",
    "    plt.axvline(x_2, linestyle='--')\n",
    "    plt.show()"
   ]
  },
  {
   "cell_type": "code",
   "execution_count": 61,
   "metadata": {
    "ExecuteTime": {
     "end_time": "2020-05-03T03:22:16.539469Z",
     "start_time": "2020-05-03T03:22:16.424776Z"
    }
   },
   "outputs": [
    {
     "data": {
      "text/plain": [
       "[<matplotlib.lines.Line2D at 0x16d34956be0>]"
      ]
     },
     "execution_count": 61,
     "metadata": {},
     "output_type": "execute_result"
    },
    {
     "data": {
      "image/png": "[encoded data removed]",
      "text/plain": [
       "<Figure size 432x288 with 1 Axes>"
      ]
     },
     "metadata": {
      "needs_background": "light"
     },
     "output_type": "display_data"
    }
   ],
   "source": [
    "x_init = (0, 40)\n",
    "x = np.linspace(x_init[0], x_init[1])\n",
    "plt.plot(x, f(x))"
   ]
  },
  {
   "cell_type": "code",
   "execution_count": 71,
   "metadata": {
    "ExecuteTime": {
     "end_time": "2020-05-03T06:41:55.713850Z",
     "start_time": "2020-05-03T06:41:51.482344Z"
    }
   },
   "outputs": [
    {
     "data": {
      "text/plain": [
       "<Figure size 432x288 with 0 Axes>"
      ]
     },
     "metadata": {},
     "output_type": "display_data"
    },
    {
     "name": "stdout",
     "output_type": "stream",
     "text": [
      "Iteration 12\n",
      "Minimum -49.449364938353824 achieved at point 26.309095726642475\n"
     ]
    },
    {
     "data": {
      "text/plain": [
       "(26.309095726642475, -49.449364938353824)"
      ]
     },
     "execution_count": 71,
     "metadata": {},
     "output_type": "execute_result"
    },
    {
     "data": {
      "text/plain": [
       "<Figure size 432x288 with 0 Axes>"
      ]
     },
     "metadata": {},
     "output_type": "display_data"
    }
   ],
   "source": [
    "gss(f, (0, 40), 0.1)"
   ]
  },
  {
   "cell_type": "markdown",
   "metadata": {},
   "source": [
    "### Three-Point Pattern"
   ]
  },
  {
   "cell_type": "code",
   "execution_count": 65,
   "metadata": {
    "ExecuteTime": {
     "end_time": "2020-05-03T06:37:37.463001Z",
     "start_time": "2020-05-03T06:37:37.458054Z"
    }
   },
   "outputs": [],
   "source": [
    "def tpp(f, x_init, step):\n",
    "    x_lo = x_init\n",
    "    if f(x_lo+step) < f(x_lo):\n",
    "        x_mid = x_lo + step\n",
    "        step *= 2\n",
    "        while f(x_mid) >= f(x_mid+step):\n",
    "            x_lo = x_mid\n",
    "            x_mid = x_mid + step\n",
    "            step *= 2\n",
    "        x_hi = x_mid + step\n",
    "    else:\n",
    "        x_hi = x_lo + step\n",
    "        step /= 2\n",
    "        while f(x_lo + step) >= f(x_lo):\n",
    "            x_hi = x_lo + step\n",
    "            step /= 2\n",
    "        x_mid = x_lo + step\n",
    "    return (x_lo, x_mid, x_hi)"
   ]
  },
  {
   "cell_type": "markdown",
   "metadata": {},
   "source": [
    "### Quadratic Fit Search"
   ]
  },
  {
   "cell_type": "code",
   "execution_count": 75,
   "metadata": {
    "ExecuteTime": {
     "end_time": "2020-05-03T07:03:49.406125Z",
     "start_time": "2020-05-03T07:03:49.398145Z"
    }
   },
   "outputs": [],
   "source": [
    "def right(f, x_lo, x_mid, x_hi, x_qu):\n",
    "    if f(x_qu)>f(x_mid):\n",
    "        return x_lo, x_mid, x_qu\n",
    "    return x_mid, x_qu, x_hi\n",
    "\n",
    "def left(f, x_lo, x_mid, x_hi, x_qu):\n",
    "    if f(x_qu)>f(x_mid):\n",
    "        return x_qu, x_mid, x_hi\n",
    "    return x_lo, x_qu, x_mid\n",
    "\n",
    "def qfs(f, x_init, eps):\n",
    "    iter = 0\n",
    "    x_lo, x_mid, x_hi = x_init\n",
    "    while (x_hi - x_lo)>=eps:\n",
    "        f_lo = f(x_lo)\n",
    "        f_mid = f(x_mid)\n",
    "        f_hi = f(x_hi)\n",
    "        s_lo = x_lo**2\n",
    "        s_mid = x_mid**2\n",
    "        s_hi = x_hi**2\n",
    "        x_qu = 0.5*(f_lo*(s_mid-s_hi) + f_mid*(s_hi-s_lo) + f_hi*(s_lo-s_mid))/\\\n",
    "               (f_lo*(x_mid-x_hi) + f_mid*(x_hi-x_lo) + f_hi*(x_lo-x_mid))\n",
    "        if x_qu == x_mid:\n",
    "            if (x_mid - x_lo) < (x_hi - x_mid):\n",
    "                x_qu = x_mid + 0.5*eps\n",
    "                x_lo, x_mid, x_hi = right(f, x_lo, x_mid, x_hi, x_qu)\n",
    "            else:\n",
    "                x_qu = x_mid - 0.5*eps\n",
    "                x_lo, x_mid, x_hi = left(f, x_lo, x_mid, x_hi, x_qu)\n",
    "        elif x_qu < x_mid:\n",
    "            x_lo, x_mid, x_hi = left(f, x_lo, x_mid, x_hi, x_qu)\n",
    "        else:\n",
    "            x_lo, x_mid, x_hi = right(f, x_lo, x_mid, x_hi, x_qu)\n",
    "        iter += 1\n",
    "    print(f\"At iteration {iter}, found {x_mid} with value {f(x_mid)}\")\n",
    "    return x_mid, f(x_mid)"
   ]
  }
 ],
 "metadata": {
  "kernelspec": {
   "display_name": "Python 3",
   "language": "python",
   "name": "python3"
  },
  "language_info": {
   "codemirror_mode": {
    "name": "ipython",
    "version": 3
   },
   "file_extension": ".py",
   "mimetype": "text/x-python",
   "name": "python",
   "nbconvert_exporter": "python",
   "pygments_lexer": "ipython3",
   "version": "3.7.0"
  },
  "latex_envs": {
   "LaTeX_envs_menu_present": true,
   "autoclose": false,
   "autocomplete": true,
   "bibliofile": "biblio.bib",
   "cite_by": "apalike",
   "current_citInitial": 1,
   "eqLabelWithNumbers": true,
   "eqNumInitial": 1,
   "hotkeys": {
    "equation": "Ctrl-E",
    "itemize": "Ctrl-I"
   },
   "labels_anchors": false,
   "latex_user_defs": false,
   "report_style_numbering": false,
   "user_envs_cfg": false
  },
  "toc": {
   "base_numbering": 1,
   "nav_menu": {},
   "number_sections": true,
   "sideBar": true,
   "skip_h1_title": false,
   "title_cell": "Table of Contents",
   "title_sidebar": "Contents",
   "toc_cell": false,
   "toc_position": {},
   "toc_section_display": true,
   "toc_window_display": false
  },
  "varInspector": {
   "cols": {
    "lenName": 16,
    "lenType": 16,
    "lenVar": 40
   },
   "kernels_config": {
    "python": {
     "delete_cmd_postfix": "",
     "delete_cmd_prefix": "del ",
     "library": "var_list.py",
     "varRefreshCmd": "print(var_dic_list())"
    },
    "r": {
     "delete_cmd_postfix": ") ",
     "delete_cmd_prefix": "rm(",
     "library": "var_list.r",
     "varRefreshCmd": "cat(var_dic_list()) "
    }
   },
   "types_to_exclude": [
    "module",
    "function",
    "builtin_function_or_method",
    "instance",
    "_Feature"
   ],
   "window_display": false
  }
 },
 "nbformat": 4,
 "nbformat_minor": 2
}
